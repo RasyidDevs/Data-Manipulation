{
  "cells": [
    {
      "cell_type": "markdown",
      "id": "325b18c8",
      "metadata": {
        "id": "325b18c8"
      },
      "source": [
        "# Data Manipulation\n",
        "\n",
        "Jawablah poin-poin assignment berikut. perhatikan dengan baik apa yang diminta pada soal."
      ]
    },
    {
      "cell_type": "markdown",
      "id": "9e50f027",
      "metadata": {
        "id": "9e50f027"
      },
      "source": [
        "Anda bekerja sebagai seorang AI/ML Engineer, atasan anda mengirimkan anda data kepada anda dan meminta untuk memberikan analisa dengan menggunakan semua metode pada data manipulation berikut :\n",
        "\n",
        "- Filtering\n",
        "- Sorting\n",
        "- Grouping / Aggregasi\n",
        "- Join / Merging\n",
        "- Pivot\n",
        "- Crosstab\n",
        "- Appending\n",
        "\n",
        "Notes : Sebelum menjawab permintaan diatas, pertama-tama awali dengan mengajukan pertanyaan analisa terlebih dahulu dan tulis insight dari yang anda dapat, **pertanyaan analisa dilakukan pada semua metode data manipulation diatas**"
      ]
    },
    {
      "cell_type": "code",
      "execution_count": 1,
      "id": "0GlR9nGriMPc",
      "metadata": {
        "id": "0GlR9nGriMPc"
      },
      "outputs": [],
      "source": [
        "import pandas as pd\n",
        "import seaborn as sns\n",
        "import matplotlib.pyplot as plt\n",
        "from sklearn.preprocessing import StandardScaler\n",
        "from sklearn.preprocessing import LabelEncoder\n",
        "import numpy as np\n",
        "pd.set_option('display.max_columns', None)"
      ]
    },
    {
      "cell_type": "code",
      "execution_count": 2,
      "id": "QbBf9Nnric43",
      "metadata": {
        "id": "QbBf9Nnric43"
      },
      "outputs": [],
      "source": [
        "df = pd.read_csv(\"supermarket_sales.csv\")"
      ]
    },
    {
      "cell_type": "code",
      "execution_count": 3,
      "id": "9APgZjUbihrL",
      "metadata": {
        "colab": {
          "base_uri": "https://localhost:8080/",
          "height": 206
        },
        "id": "9APgZjUbihrL",
        "outputId": "f147dc97-1e39-412a-8e58-bb47e25b2bb6"
      },
      "outputs": [
        {
          "data": {
            "text/html": [
              "<div>\n",
              "<style scoped>\n",
              "    .dataframe tbody tr th:only-of-type {\n",
              "        vertical-align: middle;\n",
              "    }\n",
              "\n",
              "    .dataframe tbody tr th {\n",
              "        vertical-align: top;\n",
              "    }\n",
              "\n",
              "    .dataframe thead th {\n",
              "        text-align: right;\n",
              "    }\n",
              "</style>\n",
              "<table border=\"1\" class=\"dataframe\">\n",
              "  <thead>\n",
              "    <tr style=\"text-align: right;\">\n",
              "      <th></th>\n",
              "      <th>Invoice ID</th>\n",
              "      <th>Branch</th>\n",
              "      <th>City</th>\n",
              "      <th>Customer type</th>\n",
              "      <th>Gender</th>\n",
              "      <th>Product line</th>\n",
              "      <th>Unit price</th>\n",
              "      <th>Quantity</th>\n",
              "      <th>Tax 5%</th>\n",
              "      <th>Total</th>\n",
              "      <th>Date</th>\n",
              "      <th>Time</th>\n",
              "      <th>Payment</th>\n",
              "      <th>cogs</th>\n",
              "      <th>gross margin percentage</th>\n",
              "      <th>gross income</th>\n",
              "      <th>Rating</th>\n",
              "    </tr>\n",
              "  </thead>\n",
              "  <tbody>\n",
              "    <tr>\n",
              "      <th>0</th>\n",
              "      <td>750-67-8428</td>\n",
              "      <td>A</td>\n",
              "      <td>Yangon</td>\n",
              "      <td>Member</td>\n",
              "      <td>Female</td>\n",
              "      <td>Health and beauty</td>\n",
              "      <td>74.69</td>\n",
              "      <td>7</td>\n",
              "      <td>26.1415</td>\n",
              "      <td>548.9715</td>\n",
              "      <td>1/5/2019</td>\n",
              "      <td>13:08</td>\n",
              "      <td>Ewallet</td>\n",
              "      <td>522.83</td>\n",
              "      <td>4.761905</td>\n",
              "      <td>26.1415</td>\n",
              "      <td>9.1</td>\n",
              "    </tr>\n",
              "    <tr>\n",
              "      <th>1</th>\n",
              "      <td>226-31-3081</td>\n",
              "      <td>C</td>\n",
              "      <td>Naypyitaw</td>\n",
              "      <td>Normal</td>\n",
              "      <td>Female</td>\n",
              "      <td>Electronic accessories</td>\n",
              "      <td>15.28</td>\n",
              "      <td>5</td>\n",
              "      <td>3.8200</td>\n",
              "      <td>80.2200</td>\n",
              "      <td>3/8/2019</td>\n",
              "      <td>10:29</td>\n",
              "      <td>Cash</td>\n",
              "      <td>76.40</td>\n",
              "      <td>4.761905</td>\n",
              "      <td>3.8200</td>\n",
              "      <td>9.6</td>\n",
              "    </tr>\n",
              "    <tr>\n",
              "      <th>2</th>\n",
              "      <td>631-41-3108</td>\n",
              "      <td>A</td>\n",
              "      <td>Yangon</td>\n",
              "      <td>Normal</td>\n",
              "      <td>Male</td>\n",
              "      <td>Home and lifestyle</td>\n",
              "      <td>46.33</td>\n",
              "      <td>7</td>\n",
              "      <td>16.2155</td>\n",
              "      <td>340.5255</td>\n",
              "      <td>3/3/2019</td>\n",
              "      <td>13:23</td>\n",
              "      <td>Credit card</td>\n",
              "      <td>324.31</td>\n",
              "      <td>4.761905</td>\n",
              "      <td>16.2155</td>\n",
              "      <td>7.4</td>\n",
              "    </tr>\n",
              "    <tr>\n",
              "      <th>3</th>\n",
              "      <td>123-19-1176</td>\n",
              "      <td>A</td>\n",
              "      <td>Yangon</td>\n",
              "      <td>Member</td>\n",
              "      <td>Male</td>\n",
              "      <td>Health and beauty</td>\n",
              "      <td>58.22</td>\n",
              "      <td>8</td>\n",
              "      <td>23.2880</td>\n",
              "      <td>489.0480</td>\n",
              "      <td>1/27/2019</td>\n",
              "      <td>20:33</td>\n",
              "      <td>Ewallet</td>\n",
              "      <td>465.76</td>\n",
              "      <td>4.761905</td>\n",
              "      <td>23.2880</td>\n",
              "      <td>8.4</td>\n",
              "    </tr>\n",
              "    <tr>\n",
              "      <th>4</th>\n",
              "      <td>373-73-7910</td>\n",
              "      <td>A</td>\n",
              "      <td>Yangon</td>\n",
              "      <td>Normal</td>\n",
              "      <td>Male</td>\n",
              "      <td>Sports and travel</td>\n",
              "      <td>86.31</td>\n",
              "      <td>7</td>\n",
              "      <td>30.2085</td>\n",
              "      <td>634.3785</td>\n",
              "      <td>2/8/2019</td>\n",
              "      <td>10:37</td>\n",
              "      <td>Ewallet</td>\n",
              "      <td>604.17</td>\n",
              "      <td>4.761905</td>\n",
              "      <td>30.2085</td>\n",
              "      <td>5.3</td>\n",
              "    </tr>\n",
              "  </tbody>\n",
              "</table>\n",
              "</div>"
            ],
            "text/plain": [
              "    Invoice ID Branch       City Customer type  Gender  \\\n",
              "0  750-67-8428      A     Yangon        Member  Female   \n",
              "1  226-31-3081      C  Naypyitaw        Normal  Female   \n",
              "2  631-41-3108      A     Yangon        Normal    Male   \n",
              "3  123-19-1176      A     Yangon        Member    Male   \n",
              "4  373-73-7910      A     Yangon        Normal    Male   \n",
              "\n",
              "             Product line  Unit price  Quantity   Tax 5%     Total       Date  \\\n",
              "0       Health and beauty       74.69         7  26.1415  548.9715   1/5/2019   \n",
              "1  Electronic accessories       15.28         5   3.8200   80.2200   3/8/2019   \n",
              "2      Home and lifestyle       46.33         7  16.2155  340.5255   3/3/2019   \n",
              "3       Health and beauty       58.22         8  23.2880  489.0480  1/27/2019   \n",
              "4       Sports and travel       86.31         7  30.2085  634.3785   2/8/2019   \n",
              "\n",
              "    Time      Payment    cogs  gross margin percentage  gross income  Rating  \n",
              "0  13:08      Ewallet  522.83                 4.761905       26.1415     9.1  \n",
              "1  10:29         Cash   76.40                 4.761905        3.8200     9.6  \n",
              "2  13:23  Credit card  324.31                 4.761905       16.2155     7.4  \n",
              "3  20:33      Ewallet  465.76                 4.761905       23.2880     8.4  \n",
              "4  10:37      Ewallet  604.17                 4.761905       30.2085     5.3  "
            ]
          },
          "execution_count": 3,
          "metadata": {},
          "output_type": "execute_result"
        }
      ],
      "source": [
        "df.head()"
      ]
    },
    {
      "cell_type": "code",
      "execution_count": 4,
      "id": "zSGaSSR3ijPF",
      "metadata": {
        "colab": {
          "base_uri": "https://localhost:8080/"
        },
        "id": "zSGaSSR3ijPF",
        "outputId": "34875f8d-376a-4ac4-b6ab-81f8bb712010"
      },
      "outputs": [
        {
          "name": "stdout",
          "output_type": "stream",
          "text": [
            "<class 'pandas.core.frame.DataFrame'>\n",
            "RangeIndex: 1000 entries, 0 to 999\n",
            "Data columns (total 17 columns):\n",
            " #   Column                   Non-Null Count  Dtype  \n",
            "---  ------                   --------------  -----  \n",
            " 0   Invoice ID               1000 non-null   object \n",
            " 1   Branch                   1000 non-null   object \n",
            " 2   City                     1000 non-null   object \n",
            " 3   Customer type            1000 non-null   object \n",
            " 4   Gender                   1000 non-null   object \n",
            " 5   Product line             1000 non-null   object \n",
            " 6   Unit price               1000 non-null   float64\n",
            " 7   Quantity                 1000 non-null   int64  \n",
            " 8   Tax 5%                   1000 non-null   float64\n",
            " 9   Total                    1000 non-null   float64\n",
            " 10  Date                     1000 non-null   object \n",
            " 11  Time                     1000 non-null   object \n",
            " 12  Payment                  1000 non-null   object \n",
            " 13  cogs                     1000 non-null   float64\n",
            " 14  gross margin percentage  1000 non-null   float64\n",
            " 15  gross income             1000 non-null   float64\n",
            " 16  Rating                   1000 non-null   float64\n",
            "dtypes: float64(7), int64(1), object(9)\n",
            "memory usage: 132.9+ KB\n"
          ]
        }
      ],
      "source": [
        "df.info()"
      ]
    },
    {
      "cell_type": "code",
      "execution_count": 5,
      "id": "U3YmN7G0kYWJ",
      "metadata": {
        "colab": {
          "base_uri": "https://localhost:8080/",
          "height": 300
        },
        "id": "U3YmN7G0kYWJ",
        "outputId": "1784dbb2-c21c-4fe1-80df-8a7142104d73"
      },
      "outputs": [
        {
          "data": {
            "text/html": [
              "<div>\n",
              "<style scoped>\n",
              "    .dataframe tbody tr th:only-of-type {\n",
              "        vertical-align: middle;\n",
              "    }\n",
              "\n",
              "    .dataframe tbody tr th {\n",
              "        vertical-align: top;\n",
              "    }\n",
              "\n",
              "    .dataframe thead th {\n",
              "        text-align: right;\n",
              "    }\n",
              "</style>\n",
              "<table border=\"1\" class=\"dataframe\">\n",
              "  <thead>\n",
              "    <tr style=\"text-align: right;\">\n",
              "      <th></th>\n",
              "      <th>Unit price</th>\n",
              "      <th>Quantity</th>\n",
              "      <th>Tax 5%</th>\n",
              "      <th>Total</th>\n",
              "      <th>cogs</th>\n",
              "      <th>gross margin percentage</th>\n",
              "      <th>gross income</th>\n",
              "      <th>Rating</th>\n",
              "    </tr>\n",
              "  </thead>\n",
              "  <tbody>\n",
              "    <tr>\n",
              "      <th>count</th>\n",
              "      <td>1000.000000</td>\n",
              "      <td>1000.000000</td>\n",
              "      <td>1000.000000</td>\n",
              "      <td>1000.000000</td>\n",
              "      <td>1000.00000</td>\n",
              "      <td>1000.000000</td>\n",
              "      <td>1000.000000</td>\n",
              "      <td>1000.00000</td>\n",
              "    </tr>\n",
              "    <tr>\n",
              "      <th>mean</th>\n",
              "      <td>55.672130</td>\n",
              "      <td>5.510000</td>\n",
              "      <td>15.379369</td>\n",
              "      <td>322.966749</td>\n",
              "      <td>307.58738</td>\n",
              "      <td>4.761905</td>\n",
              "      <td>15.379369</td>\n",
              "      <td>6.97270</td>\n",
              "    </tr>\n",
              "    <tr>\n",
              "      <th>std</th>\n",
              "      <td>26.494628</td>\n",
              "      <td>2.923431</td>\n",
              "      <td>11.708825</td>\n",
              "      <td>245.885335</td>\n",
              "      <td>234.17651</td>\n",
              "      <td>0.000000</td>\n",
              "      <td>11.708825</td>\n",
              "      <td>1.71858</td>\n",
              "    </tr>\n",
              "    <tr>\n",
              "      <th>min</th>\n",
              "      <td>10.080000</td>\n",
              "      <td>1.000000</td>\n",
              "      <td>0.508500</td>\n",
              "      <td>10.678500</td>\n",
              "      <td>10.17000</td>\n",
              "      <td>4.761905</td>\n",
              "      <td>0.508500</td>\n",
              "      <td>4.00000</td>\n",
              "    </tr>\n",
              "    <tr>\n",
              "      <th>25%</th>\n",
              "      <td>32.875000</td>\n",
              "      <td>3.000000</td>\n",
              "      <td>5.924875</td>\n",
              "      <td>124.422375</td>\n",
              "      <td>118.49750</td>\n",
              "      <td>4.761905</td>\n",
              "      <td>5.924875</td>\n",
              "      <td>5.50000</td>\n",
              "    </tr>\n",
              "    <tr>\n",
              "      <th>50%</th>\n",
              "      <td>55.230000</td>\n",
              "      <td>5.000000</td>\n",
              "      <td>12.088000</td>\n",
              "      <td>253.848000</td>\n",
              "      <td>241.76000</td>\n",
              "      <td>4.761905</td>\n",
              "      <td>12.088000</td>\n",
              "      <td>7.00000</td>\n",
              "    </tr>\n",
              "    <tr>\n",
              "      <th>75%</th>\n",
              "      <td>77.935000</td>\n",
              "      <td>8.000000</td>\n",
              "      <td>22.445250</td>\n",
              "      <td>471.350250</td>\n",
              "      <td>448.90500</td>\n",
              "      <td>4.761905</td>\n",
              "      <td>22.445250</td>\n",
              "      <td>8.50000</td>\n",
              "    </tr>\n",
              "    <tr>\n",
              "      <th>max</th>\n",
              "      <td>99.960000</td>\n",
              "      <td>10.000000</td>\n",
              "      <td>49.650000</td>\n",
              "      <td>1042.650000</td>\n",
              "      <td>993.00000</td>\n",
              "      <td>4.761905</td>\n",
              "      <td>49.650000</td>\n",
              "      <td>10.00000</td>\n",
              "    </tr>\n",
              "  </tbody>\n",
              "</table>\n",
              "</div>"
            ],
            "text/plain": [
              "        Unit price     Quantity       Tax 5%        Total        cogs  \\\n",
              "count  1000.000000  1000.000000  1000.000000  1000.000000  1000.00000   \n",
              "mean     55.672130     5.510000    15.379369   322.966749   307.58738   \n",
              "std      26.494628     2.923431    11.708825   245.885335   234.17651   \n",
              "min      10.080000     1.000000     0.508500    10.678500    10.17000   \n",
              "25%      32.875000     3.000000     5.924875   124.422375   118.49750   \n",
              "50%      55.230000     5.000000    12.088000   253.848000   241.76000   \n",
              "75%      77.935000     8.000000    22.445250   471.350250   448.90500   \n",
              "max      99.960000    10.000000    49.650000  1042.650000   993.00000   \n",
              "\n",
              "       gross margin percentage  gross income      Rating  \n",
              "count              1000.000000   1000.000000  1000.00000  \n",
              "mean                  4.761905     15.379369     6.97270  \n",
              "std                   0.000000     11.708825     1.71858  \n",
              "min                   4.761905      0.508500     4.00000  \n",
              "25%                   4.761905      5.924875     5.50000  \n",
              "50%                   4.761905     12.088000     7.00000  \n",
              "75%                   4.761905     22.445250     8.50000  \n",
              "max                   4.761905     49.650000    10.00000  "
            ]
          },
          "execution_count": 5,
          "metadata": {},
          "output_type": "execute_result"
        }
      ],
      "source": [
        "df.describe()"
      ]
    },
    {
      "cell_type": "markdown",
      "id": "hkHqGFpch04o",
      "metadata": {
        "id": "hkHqGFpch04o"
      },
      "source": [
        "### Filtering"
      ]
    },
    {
      "cell_type": "markdown",
      "id": "vkAHGFpfkhgA",
      "metadata": {
        "id": "vkAHGFpfkhgA"
      },
      "source": [
        "with asumption rating < 7 is a bad rating. we want to see how much is there a \"Bad Rating\""
      ]
    },
    {
      "cell_type": "code",
      "execution_count": 6,
      "id": "LMQwCXdmj9a2",
      "metadata": {
        "colab": {
          "base_uri": "https://localhost:8080/"
        },
        "id": "LMQwCXdmj9a2",
        "outputId": "2f6f6c43-ea18-44a9-b446-a5a6a8cf99f8"
      },
      "outputs": [
        {
          "data": {
            "text/plain": [
              "np.int64(501)"
            ]
          },
          "execution_count": 6,
          "metadata": {},
          "output_type": "execute_result"
        }
      ],
      "source": [
        "df[df[\"Rating\"] >= 7][\"Rating\"].count()"
      ]
    },
    {
      "cell_type": "code",
      "execution_count": 7,
      "id": "mxDrCJZnh0sh",
      "metadata": {
        "colab": {
          "base_uri": "https://localhost:8080/"
        },
        "id": "mxDrCJZnh0sh",
        "outputId": "6df96964-841f-4e47-a6ee-ddcfe653c5d6"
      },
      "outputs": [
        {
          "data": {
            "text/plain": [
              "np.int64(499)"
            ]
          },
          "execution_count": 7,
          "metadata": {},
          "output_type": "execute_result"
        }
      ],
      "source": [
        "df[df[\"Rating\"] < 7][\"Rating\"].count()"
      ]
    },
    {
      "cell_type": "markdown",
      "id": "ye9Ke8bWlCpj",
      "metadata": {
        "id": "ye9Ke8bWlCpj"
      },
      "source": [
        "there are nearly 50% of customer had a bad experience on the supermarket"
      ]
    },
    {
      "cell_type": "markdown",
      "id": "G3ifoj49mf7_",
      "metadata": {
        "id": "G3ifoj49mf7_"
      },
      "source": [
        "### Sorting"
      ]
    },
    {
      "cell_type": "markdown",
      "id": "6QCsGBgUm64H",
      "metadata": {
        "id": "6QCsGBgUm64H"
      },
      "source": [
        "What category has the most selling?"
      ]
    },
    {
      "cell_type": "code",
      "execution_count": 8,
      "id": "54yelTYgmqWe",
      "metadata": {
        "colab": {
          "base_uri": "https://localhost:8080/",
          "height": 303
        },
        "id": "54yelTYgmqWe",
        "outputId": "c547f1d7-d879-4870-92fd-bf1648f46f17"
      },
      "outputs": [
        {
          "data": {
            "text/plain": [
              "Product line\n",
              "Electronic accessories    971\n",
              "Food and beverages        952\n",
              "Sports and travel         920\n",
              "Home and lifestyle        911\n",
              "Fashion accessories       902\n",
              "Health and beauty         854\n",
              "Name: Quantity, dtype: int64"
            ]
          },
          "execution_count": 8,
          "metadata": {},
          "output_type": "execute_result"
        }
      ],
      "source": [
        "df.groupby(\"Product line\")[\"Quantity\"].sum().sort_values(ascending=False)"
      ]
    },
    {
      "cell_type": "markdown",
      "id": "LlSzCIPZoYpJ",
      "metadata": {
        "id": "LlSzCIPZoYpJ"
      },
      "source": [
        "Electronic accessories has the highest selling product"
      ]
    },
    {
      "cell_type": "markdown",
      "id": "Kj5OLk9NnYjN",
      "metadata": {
        "id": "Kj5OLk9NnYjN"
      },
      "source": [
        "how is the difference between customer type and its rating?"
      ]
    },
    {
      "cell_type": "code",
      "execution_count": 9,
      "id": "rHjpJSXBnizq",
      "metadata": {
        "colab": {
          "base_uri": "https://localhost:8080/",
          "height": 178
        },
        "id": "rHjpJSXBnizq",
        "outputId": "9f451ecc-2258-410a-992d-2b54eeadd81e"
      },
      "outputs": [
        {
          "data": {
            "text/plain": [
              "Customer type\n",
              "Normal    7.005210\n",
              "Member    6.940319\n",
              "Name: Rating, dtype: float64"
            ]
          },
          "execution_count": 9,
          "metadata": {},
          "output_type": "execute_result"
        }
      ],
      "source": [
        "df.groupby(\"Customer type\")[\"Rating\"].mean().sort_values(ascending=False)"
      ]
    },
    {
      "cell_type": "markdown",
      "id": "BnNCk8b5nsZ8",
      "metadata": {
        "id": "BnNCk8b5nsZ8"
      },
      "source": [
        "suprisingly, member customer doesn't make the rating quality higher"
      ]
    },
    {
      "cell_type": "markdown",
      "id": "sEVwFg7XoHZ-",
      "metadata": {
        "id": "sEVwFg7XoHZ-"
      },
      "source": [
        "what category has the highest rating?"
      ]
    },
    {
      "cell_type": "code",
      "execution_count": 10,
      "id": "nDDsghpfnn28",
      "metadata": {
        "colab": {
          "base_uri": "https://localhost:8080/",
          "height": 303
        },
        "id": "nDDsghpfnn28",
        "outputId": "9c874551-45a9-4023-82c0-709be939e34e"
      },
      "outputs": [
        {
          "data": {
            "text/plain": [
              "Product line\n",
              "Food and beverages        7.113218\n",
              "Fashion accessories       7.029213\n",
              "Health and beauty         7.003289\n",
              "Electronic accessories    6.924706\n",
              "Sports and travel         6.916265\n",
              "Home and lifestyle        6.837500\n",
              "Name: Rating, dtype: float64"
            ]
          },
          "execution_count": 10,
          "metadata": {},
          "output_type": "execute_result"
        }
      ],
      "source": [
        "df.groupby(\"Product line\")[\"Rating\"].mean().sort_values(ascending=False)"
      ]
    },
    {
      "cell_type": "markdown",
      "id": "ziH9MtgWajpd",
      "metadata": {
        "id": "ziH9MtgWajpd"
      },
      "source": [
        "\"Food and Beverages\" products received the highest rating, indicating that the quality of products and/or services in this category is the most satisfying for customers."
      ]
    },
    {
      "cell_type": "markdown",
      "id": "5KoWj6K59gxa",
      "metadata": {
        "id": "5KoWj6K59gxa"
      },
      "source": [
        "### Grouping / Aggregasi"
      ]
    },
    {
      "cell_type": "markdown",
      "id": "d2IVfgO_TCil",
      "metadata": {
        "id": "d2IVfgO_TCil"
      },
      "source": [
        "What gender has highest percentage of member customer type"
      ]
    },
    {
      "cell_type": "code",
      "execution_count": 11,
      "id": "O_WAAJIr9mkS",
      "metadata": {
        "colab": {
          "base_uri": "https://localhost:8080/",
          "height": 241
        },
        "id": "O_WAAJIr9mkS",
        "outputId": "8556373b-dc89-46fd-9f0f-9b5312cec935"
      },
      "outputs": [
        {
          "data": {
            "text/plain": [
              "Customer type  Gender\n",
              "Member         Female    26.1\n",
              "               Male      24.0\n",
              "Normal         Female    24.0\n",
              "               Male      25.9\n",
              "Name: Gender, dtype: float64"
            ]
          },
          "execution_count": 11,
          "metadata": {},
          "output_type": "execute_result"
        }
      ],
      "source": [
        "(df.groupby([\"Customer type\",\"Gender\"])[\"Gender\"].count() / len(df) * 100)"
      ]
    },
    {
      "cell_type": "markdown",
      "id": "rLni-pejTu8s",
      "metadata": {
        "id": "rLni-pejTu8s"
      },
      "source": [
        "what branch has the highest selling"
      ]
    },
    {
      "cell_type": "code",
      "execution_count": 12,
      "id": "K3OlZRW0TTWb",
      "metadata": {
        "colab": {
          "base_uri": "https://localhost:8080/",
          "height": 209
        },
        "id": "K3OlZRW0TTWb",
        "outputId": "439f75c8-0bec-4d52-890f-cf313e26280a"
      },
      "outputs": [
        {
          "data": {
            "text/plain": [
              "Branch\n",
              "A    1859\n",
              "C    1831\n",
              "B    1820\n",
              "Name: Quantity, dtype: int64"
            ]
          },
          "execution_count": 12,
          "metadata": {},
          "output_type": "execute_result"
        }
      ],
      "source": [
        "df.groupby(\"Branch\")[\"Quantity\"].sum().sort_values(ascending=False)"
      ]
    },
    {
      "cell_type": "markdown",
      "id": "te7ARvqTUWJs",
      "metadata": {
        "id": "te7ARvqTUWJs"
      },
      "source": [
        "Among customers with Member status, there are more women than men.\n",
        "This could indicate that women are more loyal or more interested in supermarket membership programs."
      ]
    },
    {
      "cell_type": "markdown",
      "id": "xUN_IcoeUrQc",
      "metadata": {
        "id": "xUN_IcoeUrQc"
      },
      "source": [
        "Branch A has the highest total quantity sales, although the difference is small compared to other branches."
      ]
    },
    {
      "cell_type": "markdown",
      "id": "bf8ifTInUvYJ",
      "metadata": {
        "id": "bf8ifTInUvYJ"
      },
      "source": [
        "### Join / Merging\n"
      ]
    },
    {
      "cell_type": "code",
      "execution_count": 13,
      "id": "gf8JM4ZcVzHQ",
      "metadata": {
        "colab": {
          "base_uri": "https://localhost:8080/",
          "height": 206
        },
        "id": "gf8JM4ZcVzHQ",
        "outputId": "89a99434-8667-434c-a5cd-3daedd4188f9"
      },
      "outputs": [
        {
          "data": {
            "text/html": [
              "<div>\n",
              "<style scoped>\n",
              "    .dataframe tbody tr th:only-of-type {\n",
              "        vertical-align: middle;\n",
              "    }\n",
              "\n",
              "    .dataframe tbody tr th {\n",
              "        vertical-align: top;\n",
              "    }\n",
              "\n",
              "    .dataframe thead th {\n",
              "        text-align: right;\n",
              "    }\n",
              "</style>\n",
              "<table border=\"1\" class=\"dataframe\">\n",
              "  <thead>\n",
              "    <tr style=\"text-align: right;\">\n",
              "      <th></th>\n",
              "      <th>Invoice ID</th>\n",
              "      <th>Branch</th>\n",
              "      <th>City</th>\n",
              "      <th>Customer type</th>\n",
              "      <th>Gender</th>\n",
              "      <th>Product line</th>\n",
              "      <th>Unit price</th>\n",
              "      <th>Quantity</th>\n",
              "      <th>Tax 5%</th>\n",
              "      <th>Total</th>\n",
              "      <th>Date</th>\n",
              "      <th>Time</th>\n",
              "      <th>Payment</th>\n",
              "      <th>cogs</th>\n",
              "      <th>gross margin percentage</th>\n",
              "      <th>gross income</th>\n",
              "      <th>Rating</th>\n",
              "    </tr>\n",
              "  </thead>\n",
              "  <tbody>\n",
              "    <tr>\n",
              "      <th>0</th>\n",
              "      <td>750-67-8428</td>\n",
              "      <td>A</td>\n",
              "      <td>Yangon</td>\n",
              "      <td>Member</td>\n",
              "      <td>Female</td>\n",
              "      <td>Health and beauty</td>\n",
              "      <td>74.69</td>\n",
              "      <td>7</td>\n",
              "      <td>26.1415</td>\n",
              "      <td>548.9715</td>\n",
              "      <td>1/5/2019</td>\n",
              "      <td>13:08</td>\n",
              "      <td>Ewallet</td>\n",
              "      <td>522.83</td>\n",
              "      <td>4.761905</td>\n",
              "      <td>26.1415</td>\n",
              "      <td>9.1</td>\n",
              "    </tr>\n",
              "    <tr>\n",
              "      <th>1</th>\n",
              "      <td>226-31-3081</td>\n",
              "      <td>C</td>\n",
              "      <td>Naypyitaw</td>\n",
              "      <td>Normal</td>\n",
              "      <td>Female</td>\n",
              "      <td>Electronic accessories</td>\n",
              "      <td>15.28</td>\n",
              "      <td>5</td>\n",
              "      <td>3.8200</td>\n",
              "      <td>80.2200</td>\n",
              "      <td>3/8/2019</td>\n",
              "      <td>10:29</td>\n",
              "      <td>Cash</td>\n",
              "      <td>76.40</td>\n",
              "      <td>4.761905</td>\n",
              "      <td>3.8200</td>\n",
              "      <td>9.6</td>\n",
              "    </tr>\n",
              "    <tr>\n",
              "      <th>2</th>\n",
              "      <td>631-41-3108</td>\n",
              "      <td>A</td>\n",
              "      <td>Yangon</td>\n",
              "      <td>Normal</td>\n",
              "      <td>Male</td>\n",
              "      <td>Home and lifestyle</td>\n",
              "      <td>46.33</td>\n",
              "      <td>7</td>\n",
              "      <td>16.2155</td>\n",
              "      <td>340.5255</td>\n",
              "      <td>3/3/2019</td>\n",
              "      <td>13:23</td>\n",
              "      <td>Credit card</td>\n",
              "      <td>324.31</td>\n",
              "      <td>4.761905</td>\n",
              "      <td>16.2155</td>\n",
              "      <td>7.4</td>\n",
              "    </tr>\n",
              "    <tr>\n",
              "      <th>3</th>\n",
              "      <td>123-19-1176</td>\n",
              "      <td>A</td>\n",
              "      <td>Yangon</td>\n",
              "      <td>Member</td>\n",
              "      <td>Male</td>\n",
              "      <td>Health and beauty</td>\n",
              "      <td>58.22</td>\n",
              "      <td>8</td>\n",
              "      <td>23.2880</td>\n",
              "      <td>489.0480</td>\n",
              "      <td>1/27/2019</td>\n",
              "      <td>20:33</td>\n",
              "      <td>Ewallet</td>\n",
              "      <td>465.76</td>\n",
              "      <td>4.761905</td>\n",
              "      <td>23.2880</td>\n",
              "      <td>8.4</td>\n",
              "    </tr>\n",
              "    <tr>\n",
              "      <th>4</th>\n",
              "      <td>373-73-7910</td>\n",
              "      <td>A</td>\n",
              "      <td>Yangon</td>\n",
              "      <td>Normal</td>\n",
              "      <td>Male</td>\n",
              "      <td>Sports and travel</td>\n",
              "      <td>86.31</td>\n",
              "      <td>7</td>\n",
              "      <td>30.2085</td>\n",
              "      <td>634.3785</td>\n",
              "      <td>2/8/2019</td>\n",
              "      <td>10:37</td>\n",
              "      <td>Ewallet</td>\n",
              "      <td>604.17</td>\n",
              "      <td>4.761905</td>\n",
              "      <td>30.2085</td>\n",
              "      <td>5.3</td>\n",
              "    </tr>\n",
              "  </tbody>\n",
              "</table>\n",
              "</div>"
            ],
            "text/plain": [
              "    Invoice ID Branch       City Customer type  Gender  \\\n",
              "0  750-67-8428      A     Yangon        Member  Female   \n",
              "1  226-31-3081      C  Naypyitaw        Normal  Female   \n",
              "2  631-41-3108      A     Yangon        Normal    Male   \n",
              "3  123-19-1176      A     Yangon        Member    Male   \n",
              "4  373-73-7910      A     Yangon        Normal    Male   \n",
              "\n",
              "             Product line  Unit price  Quantity   Tax 5%     Total       Date  \\\n",
              "0       Health and beauty       74.69         7  26.1415  548.9715   1/5/2019   \n",
              "1  Electronic accessories       15.28         5   3.8200   80.2200   3/8/2019   \n",
              "2      Home and lifestyle       46.33         7  16.2155  340.5255   3/3/2019   \n",
              "3       Health and beauty       58.22         8  23.2880  489.0480  1/27/2019   \n",
              "4       Sports and travel       86.31         7  30.2085  634.3785   2/8/2019   \n",
              "\n",
              "    Time      Payment    cogs  gross margin percentage  gross income  Rating  \n",
              "0  13:08      Ewallet  522.83                 4.761905       26.1415     9.1  \n",
              "1  10:29         Cash   76.40                 4.761905        3.8200     9.6  \n",
              "2  13:23  Credit card  324.31                 4.761905       16.2155     7.4  \n",
              "3  20:33      Ewallet  465.76                 4.761905       23.2880     8.4  \n",
              "4  10:37      Ewallet  604.17                 4.761905       30.2085     5.3  "
            ]
          },
          "execution_count": 13,
          "metadata": {},
          "output_type": "execute_result"
        }
      ],
      "source": [
        "df.head()"
      ]
    },
    {
      "cell_type": "code",
      "execution_count": 14,
      "id": "Kb52Vq74UJwx",
      "metadata": {
        "colab": {
          "base_uri": "https://localhost:8080/",
          "height": 143
        },
        "id": "Kb52Vq74UJwx",
        "outputId": "86f63e1f-e33e-43b9-bbbf-c5471b642dd7"
      },
      "outputs": [
        {
          "data": {
            "text/html": [
              "<div>\n",
              "<style scoped>\n",
              "    .dataframe tbody tr th:only-of-type {\n",
              "        vertical-align: middle;\n",
              "    }\n",
              "\n",
              "    .dataframe tbody tr th {\n",
              "        vertical-align: top;\n",
              "    }\n",
              "\n",
              "    .dataframe thead th {\n",
              "        text-align: right;\n",
              "    }\n",
              "</style>\n",
              "<table border=\"1\" class=\"dataframe\">\n",
              "  <thead>\n",
              "    <tr style=\"text-align: right;\">\n",
              "      <th></th>\n",
              "      <th>Branch</th>\n",
              "      <th>Region</th>\n",
              "      <th>Manager</th>\n",
              "      <th>Opened Year</th>\n",
              "    </tr>\n",
              "  </thead>\n",
              "  <tbody>\n",
              "    <tr>\n",
              "      <th>0</th>\n",
              "      <td>A</td>\n",
              "      <td>South</td>\n",
              "      <td>Alice</td>\n",
              "      <td>2015</td>\n",
              "    </tr>\n",
              "    <tr>\n",
              "      <th>1</th>\n",
              "      <td>B</td>\n",
              "      <td>Central</td>\n",
              "      <td>Bob</td>\n",
              "      <td>2017</td>\n",
              "    </tr>\n",
              "    <tr>\n",
              "      <th>2</th>\n",
              "      <td>C</td>\n",
              "      <td>North</td>\n",
              "      <td>Charlie</td>\n",
              "      <td>2016</td>\n",
              "    </tr>\n",
              "  </tbody>\n",
              "</table>\n",
              "</div>"
            ],
            "text/plain": [
              "  Branch   Region  Manager  Opened Year\n",
              "0      A    South    Alice         2015\n",
              "1      B  Central      Bob         2017\n",
              "2      C    North  Charlie         2016"
            ]
          },
          "execution_count": 14,
          "metadata": {},
          "output_type": "execute_result"
        }
      ],
      "source": [
        "df_branch = pd.read_csv(\"branch_info.csv\")\n",
        "df_branch.head()"
      ]
    },
    {
      "cell_type": "code",
      "execution_count": 15,
      "id": "EeaKChzHVJpk",
      "metadata": {
        "colab": {
          "base_uri": "https://localhost:8080/",
          "height": 143
        },
        "id": "EeaKChzHVJpk",
        "outputId": "b3c20b48-55c9-4852-f142-7aba9127728f"
      },
      "outputs": [
        {
          "data": {
            "text/html": [
              "<div>\n",
              "<style scoped>\n",
              "    .dataframe tbody tr th:only-of-type {\n",
              "        vertical-align: middle;\n",
              "    }\n",
              "\n",
              "    .dataframe tbody tr th {\n",
              "        vertical-align: top;\n",
              "    }\n",
              "\n",
              "    .dataframe thead th {\n",
              "        text-align: right;\n",
              "    }\n",
              "</style>\n",
              "<table border=\"1\" class=\"dataframe\">\n",
              "  <thead>\n",
              "    <tr style=\"text-align: right;\">\n",
              "      <th></th>\n",
              "      <th>Product line</th>\n",
              "      <th>Category</th>\n",
              "      <th>Supplier</th>\n",
              "      <th>Warranty (months)</th>\n",
              "    </tr>\n",
              "  </thead>\n",
              "  <tbody>\n",
              "    <tr>\n",
              "      <th>0</th>\n",
              "      <td>Health and beauty</td>\n",
              "      <td>Beauty</td>\n",
              "      <td>Supplier A</td>\n",
              "      <td>12</td>\n",
              "    </tr>\n",
              "    <tr>\n",
              "      <th>1</th>\n",
              "      <td>Electronic accessories</td>\n",
              "      <td>Electronics</td>\n",
              "      <td>Supplier B</td>\n",
              "      <td>24</td>\n",
              "    </tr>\n",
              "    <tr>\n",
              "      <th>2</th>\n",
              "      <td>Home and lifestyle</td>\n",
              "      <td>Home</td>\n",
              "      <td>Supplier C</td>\n",
              "      <td>18</td>\n",
              "    </tr>\n",
              "  </tbody>\n",
              "</table>\n",
              "</div>"
            ],
            "text/plain": [
              "             Product line     Category    Supplier  Warranty (months)\n",
              "0       Health and beauty       Beauty  Supplier A                 12\n",
              "1  Electronic accessories  Electronics  Supplier B                 24\n",
              "2      Home and lifestyle         Home  Supplier C                 18"
            ]
          },
          "execution_count": 15,
          "metadata": {},
          "output_type": "execute_result"
        }
      ],
      "source": [
        "df_product = pd.read_csv(\"product_info.csv\")\n",
        "df_product.head()"
      ]
    },
    {
      "cell_type": "markdown",
      "id": "R2gzEivyXbot",
      "metadata": {
        "id": "R2gzEivyXbot"
      },
      "source": [
        "what branch uses supplier A the most?"
      ]
    },
    {
      "cell_type": "code",
      "execution_count": 16,
      "id": "NV_XFGuMWIHM",
      "metadata": {
        "colab": {
          "base_uri": "https://localhost:8080/",
          "height": 310
        },
        "id": "NV_XFGuMWIHM",
        "outputId": "f2dbded7-9a72-4cc1-c562-70c6569a5246"
      },
      "outputs": [
        {
          "data": {
            "text/html": [
              "<div>\n",
              "<style scoped>\n",
              "    .dataframe tbody tr th:only-of-type {\n",
              "        vertical-align: middle;\n",
              "    }\n",
              "\n",
              "    .dataframe tbody tr th {\n",
              "        vertical-align: top;\n",
              "    }\n",
              "\n",
              "    .dataframe thead th {\n",
              "        text-align: right;\n",
              "    }\n",
              "</style>\n",
              "<table border=\"1\" class=\"dataframe\">\n",
              "  <thead>\n",
              "    <tr style=\"text-align: right;\">\n",
              "      <th></th>\n",
              "      <th>Invoice ID</th>\n",
              "      <th>Branch</th>\n",
              "      <th>City</th>\n",
              "      <th>Customer type</th>\n",
              "      <th>Gender</th>\n",
              "      <th>Product line</th>\n",
              "      <th>Unit price</th>\n",
              "      <th>Quantity</th>\n",
              "      <th>Tax 5%</th>\n",
              "      <th>Total</th>\n",
              "      <th>Date</th>\n",
              "      <th>Time</th>\n",
              "      <th>Payment</th>\n",
              "      <th>cogs</th>\n",
              "      <th>gross margin percentage</th>\n",
              "      <th>gross income</th>\n",
              "      <th>Rating</th>\n",
              "      <th>Category</th>\n",
              "      <th>Supplier</th>\n",
              "      <th>Warranty (months)</th>\n",
              "    </tr>\n",
              "  </thead>\n",
              "  <tbody>\n",
              "    <tr>\n",
              "      <th>0</th>\n",
              "      <td>750-67-8428</td>\n",
              "      <td>A</td>\n",
              "      <td>Yangon</td>\n",
              "      <td>Member</td>\n",
              "      <td>Female</td>\n",
              "      <td>Health and beauty</td>\n",
              "      <td>74.69</td>\n",
              "      <td>7</td>\n",
              "      <td>26.1415</td>\n",
              "      <td>548.9715</td>\n",
              "      <td>1/5/2019</td>\n",
              "      <td>13:08</td>\n",
              "      <td>Ewallet</td>\n",
              "      <td>522.83</td>\n",
              "      <td>4.761905</td>\n",
              "      <td>26.1415</td>\n",
              "      <td>9.1</td>\n",
              "      <td>Beauty</td>\n",
              "      <td>Supplier A</td>\n",
              "      <td>12</td>\n",
              "    </tr>\n",
              "    <tr>\n",
              "      <th>1</th>\n",
              "      <td>123-19-1176</td>\n",
              "      <td>A</td>\n",
              "      <td>Yangon</td>\n",
              "      <td>Member</td>\n",
              "      <td>Male</td>\n",
              "      <td>Health and beauty</td>\n",
              "      <td>58.22</td>\n",
              "      <td>8</td>\n",
              "      <td>23.2880</td>\n",
              "      <td>489.0480</td>\n",
              "      <td>1/27/2019</td>\n",
              "      <td>20:33</td>\n",
              "      <td>Ewallet</td>\n",
              "      <td>465.76</td>\n",
              "      <td>4.761905</td>\n",
              "      <td>23.2880</td>\n",
              "      <td>8.4</td>\n",
              "      <td>Beauty</td>\n",
              "      <td>Supplier A</td>\n",
              "      <td>12</td>\n",
              "    </tr>\n",
              "    <tr>\n",
              "      <th>2</th>\n",
              "      <td>665-32-9167</td>\n",
              "      <td>A</td>\n",
              "      <td>Yangon</td>\n",
              "      <td>Member</td>\n",
              "      <td>Female</td>\n",
              "      <td>Health and beauty</td>\n",
              "      <td>36.26</td>\n",
              "      <td>2</td>\n",
              "      <td>3.6260</td>\n",
              "      <td>76.1460</td>\n",
              "      <td>1/10/2019</td>\n",
              "      <td>17:15</td>\n",
              "      <td>Credit card</td>\n",
              "      <td>72.52</td>\n",
              "      <td>4.761905</td>\n",
              "      <td>3.6260</td>\n",
              "      <td>7.2</td>\n",
              "      <td>Beauty</td>\n",
              "      <td>Supplier A</td>\n",
              "      <td>12</td>\n",
              "    </tr>\n",
              "    <tr>\n",
              "      <th>3</th>\n",
              "      <td>829-34-3910</td>\n",
              "      <td>A</td>\n",
              "      <td>Yangon</td>\n",
              "      <td>Normal</td>\n",
              "      <td>Female</td>\n",
              "      <td>Health and beauty</td>\n",
              "      <td>71.38</td>\n",
              "      <td>10</td>\n",
              "      <td>35.6900</td>\n",
              "      <td>749.4900</td>\n",
              "      <td>3/29/2019</td>\n",
              "      <td>19:21</td>\n",
              "      <td>Cash</td>\n",
              "      <td>713.80</td>\n",
              "      <td>4.761905</td>\n",
              "      <td>35.6900</td>\n",
              "      <td>5.7</td>\n",
              "      <td>Beauty</td>\n",
              "      <td>Supplier A</td>\n",
              "      <td>12</td>\n",
              "    </tr>\n",
              "    <tr>\n",
              "      <th>4</th>\n",
              "      <td>656-95-9349</td>\n",
              "      <td>A</td>\n",
              "      <td>Yangon</td>\n",
              "      <td>Member</td>\n",
              "      <td>Female</td>\n",
              "      <td>Health and beauty</td>\n",
              "      <td>68.93</td>\n",
              "      <td>7</td>\n",
              "      <td>24.1255</td>\n",
              "      <td>506.6355</td>\n",
              "      <td>3/11/2019</td>\n",
              "      <td>11:03</td>\n",
              "      <td>Credit card</td>\n",
              "      <td>482.51</td>\n",
              "      <td>4.761905</td>\n",
              "      <td>24.1255</td>\n",
              "      <td>4.6</td>\n",
              "      <td>Beauty</td>\n",
              "      <td>Supplier A</td>\n",
              "      <td>12</td>\n",
              "    </tr>\n",
              "  </tbody>\n",
              "</table>\n",
              "</div>"
            ],
            "text/plain": [
              "    Invoice ID Branch    City Customer type  Gender       Product line  \\\n",
              "0  750-67-8428      A  Yangon        Member  Female  Health and beauty   \n",
              "1  123-19-1176      A  Yangon        Member    Male  Health and beauty   \n",
              "2  665-32-9167      A  Yangon        Member  Female  Health and beauty   \n",
              "3  829-34-3910      A  Yangon        Normal  Female  Health and beauty   \n",
              "4  656-95-9349      A  Yangon        Member  Female  Health and beauty   \n",
              "\n",
              "   Unit price  Quantity   Tax 5%     Total       Date   Time      Payment  \\\n",
              "0       74.69         7  26.1415  548.9715   1/5/2019  13:08      Ewallet   \n",
              "1       58.22         8  23.2880  489.0480  1/27/2019  20:33      Ewallet   \n",
              "2       36.26         2   3.6260   76.1460  1/10/2019  17:15  Credit card   \n",
              "3       71.38        10  35.6900  749.4900  3/29/2019  19:21         Cash   \n",
              "4       68.93         7  24.1255  506.6355  3/11/2019  11:03  Credit card   \n",
              "\n",
              "     cogs  gross margin percentage  gross income  Rating Category    Supplier  \\\n",
              "0  522.83                 4.761905       26.1415     9.1   Beauty  Supplier A   \n",
              "1  465.76                 4.761905       23.2880     8.4   Beauty  Supplier A   \n",
              "2   72.52                 4.761905        3.6260     7.2   Beauty  Supplier A   \n",
              "3  713.80                 4.761905       35.6900     5.7   Beauty  Supplier A   \n",
              "4  482.51                 4.761905       24.1255     4.6   Beauty  Supplier A   \n",
              "\n",
              "   Warranty (months)  \n",
              "0                 12  \n",
              "1                 12  \n",
              "2                 12  \n",
              "3                 12  \n",
              "4                 12  "
            ]
          },
          "execution_count": 16,
          "metadata": {},
          "output_type": "execute_result"
        }
      ],
      "source": [
        "market_product = pd.merge(df, df_product, left_on=\"Product line\", right_on=\"Product line\", how=\"right\")\n",
        "market_product.head()"
      ]
    },
    {
      "cell_type": "code",
      "execution_count": 17,
      "id": "99ghDUdvXW8f",
      "metadata": {
        "colab": {
          "base_uri": "https://localhost:8080/",
          "height": 175
        },
        "id": "99ghDUdvXW8f",
        "outputId": "ccc6a579-76b7-4091-c915-ce7581624340"
      },
      "outputs": [
        {
          "data": {
            "text/html": [
              "<div>\n",
              "<style scoped>\n",
              "    .dataframe tbody tr th:only-of-type {\n",
              "        vertical-align: middle;\n",
              "    }\n",
              "\n",
              "    .dataframe tbody tr th {\n",
              "        vertical-align: top;\n",
              "    }\n",
              "\n",
              "    .dataframe thead th {\n",
              "        text-align: right;\n",
              "    }\n",
              "</style>\n",
              "<table border=\"1\" class=\"dataframe\">\n",
              "  <thead>\n",
              "    <tr style=\"text-align: right;\">\n",
              "      <th></th>\n",
              "      <th>Supplier A</th>\n",
              "    </tr>\n",
              "    <tr>\n",
              "      <th>Branch</th>\n",
              "      <th></th>\n",
              "    </tr>\n",
              "  </thead>\n",
              "  <tbody>\n",
              "    <tr>\n",
              "      <th>A</th>\n",
              "      <td>47</td>\n",
              "    </tr>\n",
              "    <tr>\n",
              "      <th>B</th>\n",
              "      <td>53</td>\n",
              "    </tr>\n",
              "    <tr>\n",
              "      <th>C</th>\n",
              "      <td>52</td>\n",
              "    </tr>\n",
              "  </tbody>\n",
              "</table>\n",
              "</div>"
            ],
            "text/plain": [
              "        Supplier A\n",
              "Branch            \n",
              "A               47\n",
              "B               53\n",
              "C               52"
            ]
          },
          "execution_count": 17,
          "metadata": {},
          "output_type": "execute_result"
        }
      ],
      "source": [
        "supplier_a_counts = (\n",
        "    market_product[market_product[\"Supplier\"] == \"Supplier A\"]\n",
        "    .groupby(\"Branch\")[\"Supplier\"]\n",
        "    .count()\n",
        "    .to_frame()\n",
        "    .rename(columns={\"Supplier\": \"Supplier A\"})\n",
        ")\n",
        "supplier_a_counts"
      ]
    },
    {
      "cell_type": "markdown",
      "id": "N9gCpZaTa2RN",
      "metadata": {
        "id": "N9gCpZaTa2RN"
      },
      "source": [
        "Supplier A is fairly evenly distributed across three branches (A, B, and C), with the highest number of transactions in Branch B (53)."
      ]
    },
    {
      "cell_type": "markdown",
      "id": "UIiicDAOYtSC",
      "metadata": {
        "id": "UIiicDAOYtSC"
      },
      "source": [
        "How many each supplier in each region?"
      ]
    },
    {
      "cell_type": "code",
      "execution_count": 18,
      "id": "BeDoCFcfXo5F",
      "metadata": {
        "colab": {
          "base_uri": "https://localhost:8080/",
          "height": 310
        },
        "id": "BeDoCFcfXo5F",
        "outputId": "e66b9da3-e7b4-4316-cf4b-1f06ae77cf22"
      },
      "outputs": [
        {
          "data": {
            "text/html": [
              "<div>\n",
              "<style scoped>\n",
              "    .dataframe tbody tr th:only-of-type {\n",
              "        vertical-align: middle;\n",
              "    }\n",
              "\n",
              "    .dataframe tbody tr th {\n",
              "        vertical-align: top;\n",
              "    }\n",
              "\n",
              "    .dataframe thead th {\n",
              "        text-align: right;\n",
              "    }\n",
              "</style>\n",
              "<table border=\"1\" class=\"dataframe\">\n",
              "  <thead>\n",
              "    <tr style=\"text-align: right;\">\n",
              "      <th></th>\n",
              "      <th>Invoice ID</th>\n",
              "      <th>Branch</th>\n",
              "      <th>City</th>\n",
              "      <th>Customer type</th>\n",
              "      <th>Gender</th>\n",
              "      <th>Product line</th>\n",
              "      <th>Unit price</th>\n",
              "      <th>Quantity</th>\n",
              "      <th>Tax 5%</th>\n",
              "      <th>Total</th>\n",
              "      <th>Date</th>\n",
              "      <th>Time</th>\n",
              "      <th>Payment</th>\n",
              "      <th>cogs</th>\n",
              "      <th>gross margin percentage</th>\n",
              "      <th>gross income</th>\n",
              "      <th>Rating</th>\n",
              "      <th>Category</th>\n",
              "      <th>Supplier</th>\n",
              "      <th>Warranty (months)</th>\n",
              "      <th>Region</th>\n",
              "      <th>Manager</th>\n",
              "      <th>Opened Year</th>\n",
              "    </tr>\n",
              "  </thead>\n",
              "  <tbody>\n",
              "    <tr>\n",
              "      <th>0</th>\n",
              "      <td>750-67-8428</td>\n",
              "      <td>A</td>\n",
              "      <td>Yangon</td>\n",
              "      <td>Member</td>\n",
              "      <td>Female</td>\n",
              "      <td>Health and beauty</td>\n",
              "      <td>74.69</td>\n",
              "      <td>7</td>\n",
              "      <td>26.1415</td>\n",
              "      <td>548.9715</td>\n",
              "      <td>1/5/2019</td>\n",
              "      <td>13:08</td>\n",
              "      <td>Ewallet</td>\n",
              "      <td>522.83</td>\n",
              "      <td>4.761905</td>\n",
              "      <td>26.1415</td>\n",
              "      <td>9.1</td>\n",
              "      <td>Beauty</td>\n",
              "      <td>Supplier A</td>\n",
              "      <td>12</td>\n",
              "      <td>South</td>\n",
              "      <td>Alice</td>\n",
              "      <td>2015</td>\n",
              "    </tr>\n",
              "    <tr>\n",
              "      <th>1</th>\n",
              "      <td>123-19-1176</td>\n",
              "      <td>A</td>\n",
              "      <td>Yangon</td>\n",
              "      <td>Member</td>\n",
              "      <td>Male</td>\n",
              "      <td>Health and beauty</td>\n",
              "      <td>58.22</td>\n",
              "      <td>8</td>\n",
              "      <td>23.2880</td>\n",
              "      <td>489.0480</td>\n",
              "      <td>1/27/2019</td>\n",
              "      <td>20:33</td>\n",
              "      <td>Ewallet</td>\n",
              "      <td>465.76</td>\n",
              "      <td>4.761905</td>\n",
              "      <td>23.2880</td>\n",
              "      <td>8.4</td>\n",
              "      <td>Beauty</td>\n",
              "      <td>Supplier A</td>\n",
              "      <td>12</td>\n",
              "      <td>South</td>\n",
              "      <td>Alice</td>\n",
              "      <td>2015</td>\n",
              "    </tr>\n",
              "    <tr>\n",
              "      <th>2</th>\n",
              "      <td>665-32-9167</td>\n",
              "      <td>A</td>\n",
              "      <td>Yangon</td>\n",
              "      <td>Member</td>\n",
              "      <td>Female</td>\n",
              "      <td>Health and beauty</td>\n",
              "      <td>36.26</td>\n",
              "      <td>2</td>\n",
              "      <td>3.6260</td>\n",
              "      <td>76.1460</td>\n",
              "      <td>1/10/2019</td>\n",
              "      <td>17:15</td>\n",
              "      <td>Credit card</td>\n",
              "      <td>72.52</td>\n",
              "      <td>4.761905</td>\n",
              "      <td>3.6260</td>\n",
              "      <td>7.2</td>\n",
              "      <td>Beauty</td>\n",
              "      <td>Supplier A</td>\n",
              "      <td>12</td>\n",
              "      <td>South</td>\n",
              "      <td>Alice</td>\n",
              "      <td>2015</td>\n",
              "    </tr>\n",
              "    <tr>\n",
              "      <th>3</th>\n",
              "      <td>829-34-3910</td>\n",
              "      <td>A</td>\n",
              "      <td>Yangon</td>\n",
              "      <td>Normal</td>\n",
              "      <td>Female</td>\n",
              "      <td>Health and beauty</td>\n",
              "      <td>71.38</td>\n",
              "      <td>10</td>\n",
              "      <td>35.6900</td>\n",
              "      <td>749.4900</td>\n",
              "      <td>3/29/2019</td>\n",
              "      <td>19:21</td>\n",
              "      <td>Cash</td>\n",
              "      <td>713.80</td>\n",
              "      <td>4.761905</td>\n",
              "      <td>35.6900</td>\n",
              "      <td>5.7</td>\n",
              "      <td>Beauty</td>\n",
              "      <td>Supplier A</td>\n",
              "      <td>12</td>\n",
              "      <td>South</td>\n",
              "      <td>Alice</td>\n",
              "      <td>2015</td>\n",
              "    </tr>\n",
              "    <tr>\n",
              "      <th>4</th>\n",
              "      <td>656-95-9349</td>\n",
              "      <td>A</td>\n",
              "      <td>Yangon</td>\n",
              "      <td>Member</td>\n",
              "      <td>Female</td>\n",
              "      <td>Health and beauty</td>\n",
              "      <td>68.93</td>\n",
              "      <td>7</td>\n",
              "      <td>24.1255</td>\n",
              "      <td>506.6355</td>\n",
              "      <td>3/11/2019</td>\n",
              "      <td>11:03</td>\n",
              "      <td>Credit card</td>\n",
              "      <td>482.51</td>\n",
              "      <td>4.761905</td>\n",
              "      <td>24.1255</td>\n",
              "      <td>4.6</td>\n",
              "      <td>Beauty</td>\n",
              "      <td>Supplier A</td>\n",
              "      <td>12</td>\n",
              "      <td>South</td>\n",
              "      <td>Alice</td>\n",
              "      <td>2015</td>\n",
              "    </tr>\n",
              "  </tbody>\n",
              "</table>\n",
              "</div>"
            ],
            "text/plain": [
              "    Invoice ID Branch    City Customer type  Gender       Product line  \\\n",
              "0  750-67-8428      A  Yangon        Member  Female  Health and beauty   \n",
              "1  123-19-1176      A  Yangon        Member    Male  Health and beauty   \n",
              "2  665-32-9167      A  Yangon        Member  Female  Health and beauty   \n",
              "3  829-34-3910      A  Yangon        Normal  Female  Health and beauty   \n",
              "4  656-95-9349      A  Yangon        Member  Female  Health and beauty   \n",
              "\n",
              "   Unit price  Quantity   Tax 5%     Total       Date   Time      Payment  \\\n",
              "0       74.69         7  26.1415  548.9715   1/5/2019  13:08      Ewallet   \n",
              "1       58.22         8  23.2880  489.0480  1/27/2019  20:33      Ewallet   \n",
              "2       36.26         2   3.6260   76.1460  1/10/2019  17:15  Credit card   \n",
              "3       71.38        10  35.6900  749.4900  3/29/2019  19:21         Cash   \n",
              "4       68.93         7  24.1255  506.6355  3/11/2019  11:03  Credit card   \n",
              "\n",
              "     cogs  gross margin percentage  gross income  Rating Category    Supplier  \\\n",
              "0  522.83                 4.761905       26.1415     9.1   Beauty  Supplier A   \n",
              "1  465.76                 4.761905       23.2880     8.4   Beauty  Supplier A   \n",
              "2   72.52                 4.761905        3.6260     7.2   Beauty  Supplier A   \n",
              "3  713.80                 4.761905       35.6900     5.7   Beauty  Supplier A   \n",
              "4  482.51                 4.761905       24.1255     4.6   Beauty  Supplier A   \n",
              "\n",
              "   Warranty (months) Region Manager  Opened Year  \n",
              "0                 12  South   Alice         2015  \n",
              "1                 12  South   Alice         2015  \n",
              "2                 12  South   Alice         2015  \n",
              "3                 12  South   Alice         2015  \n",
              "4                 12  South   Alice         2015  "
            ]
          },
          "execution_count": 18,
          "metadata": {},
          "output_type": "execute_result"
        }
      ],
      "source": [
        "market_product_branch = pd.merge(market_product, df_branch, left_on=\"Branch\", right_on=\"Branch\", how=\"right\")\n",
        "market_product_branch.head()"
      ]
    },
    {
      "cell_type": "code",
      "execution_count": 19,
      "id": "52QahBH7ZMi8",
      "metadata": {
        "colab": {
          "base_uri": "https://localhost:8080/",
          "height": 397
        },
        "id": "52QahBH7ZMi8",
        "outputId": "f331ae29-b029-49db-f4fe-4dd86bb121e5"
      },
      "outputs": [
        {
          "data": {
            "text/plain": [
              "Region   Supplier  \n",
              "Central  Supplier A    53\n",
              "         Supplier B    55\n",
              "         Supplier C    50\n",
              "North    Supplier A    52\n",
              "         Supplier B    55\n",
              "         Supplier C    45\n",
              "South    Supplier A    47\n",
              "         Supplier B    60\n",
              "         Supplier C    65\n",
              "Name: Supplier, dtype: int64"
            ]
          },
          "execution_count": 19,
          "metadata": {},
          "output_type": "execute_result"
        }
      ],
      "source": [
        "market_product_branch.groupby([\"Region\", \"Supplier\"])[\"Supplier\"].count()"
      ]
    },
    {
      "cell_type": "markdown",
      "id": "Zxf924tja_qU",
      "metadata": {
        "id": "Zxf924tja_qU"
      },
      "source": [
        "The South Region has the highest supplier activity, particularly Suppliers C (65) and B (60).\n",
        "\n",
        "The North Region is more balanced across suppliers, with a distribution range of 45–52.\n",
        "\n",
        "In the Central Region, Supplier B has the highest activity."
      ]
    },
    {
      "cell_type": "markdown",
      "id": "Y4JD7QZQbHc1",
      "metadata": {
        "id": "Y4JD7QZQbHc1"
      },
      "source": [
        "### Pivot"
      ]
    },
    {
      "cell_type": "code",
      "execution_count": 20,
      "id": "rAWYfXEoZWXw",
      "metadata": {
        "colab": {
          "base_uri": "https://localhost:8080/",
          "height": 310
        },
        "id": "rAWYfXEoZWXw",
        "outputId": "4a8d0292-41fb-4969-f90c-36c92ea48ece"
      },
      "outputs": [
        {
          "data": {
            "text/html": [
              "<div>\n",
              "<style scoped>\n",
              "    .dataframe tbody tr th:only-of-type {\n",
              "        vertical-align: middle;\n",
              "    }\n",
              "\n",
              "    .dataframe tbody tr th {\n",
              "        vertical-align: top;\n",
              "    }\n",
              "\n",
              "    .dataframe thead th {\n",
              "        text-align: right;\n",
              "    }\n",
              "</style>\n",
              "<table border=\"1\" class=\"dataframe\">\n",
              "  <thead>\n",
              "    <tr style=\"text-align: right;\">\n",
              "      <th></th>\n",
              "      <th>Invoice ID</th>\n",
              "      <th>Branch</th>\n",
              "      <th>City</th>\n",
              "      <th>Customer type</th>\n",
              "      <th>Gender</th>\n",
              "      <th>Product line</th>\n",
              "      <th>Unit price</th>\n",
              "      <th>Quantity</th>\n",
              "      <th>Tax 5%</th>\n",
              "      <th>Total</th>\n",
              "      <th>Date</th>\n",
              "      <th>Time</th>\n",
              "      <th>Payment</th>\n",
              "      <th>cogs</th>\n",
              "      <th>gross margin percentage</th>\n",
              "      <th>gross income</th>\n",
              "      <th>Rating</th>\n",
              "      <th>Region</th>\n",
              "      <th>Manager</th>\n",
              "      <th>Opened Year</th>\n",
              "    </tr>\n",
              "  </thead>\n",
              "  <tbody>\n",
              "    <tr>\n",
              "      <th>0</th>\n",
              "      <td>750-67-8428</td>\n",
              "      <td>A</td>\n",
              "      <td>Yangon</td>\n",
              "      <td>Member</td>\n",
              "      <td>Female</td>\n",
              "      <td>Health and beauty</td>\n",
              "      <td>74.69</td>\n",
              "      <td>7</td>\n",
              "      <td>26.1415</td>\n",
              "      <td>548.9715</td>\n",
              "      <td>1/5/2019</td>\n",
              "      <td>13:08</td>\n",
              "      <td>Ewallet</td>\n",
              "      <td>522.83</td>\n",
              "      <td>4.761905</td>\n",
              "      <td>26.1415</td>\n",
              "      <td>9.1</td>\n",
              "      <td>South</td>\n",
              "      <td>Alice</td>\n",
              "      <td>2015</td>\n",
              "    </tr>\n",
              "    <tr>\n",
              "      <th>1</th>\n",
              "      <td>631-41-3108</td>\n",
              "      <td>A</td>\n",
              "      <td>Yangon</td>\n",
              "      <td>Normal</td>\n",
              "      <td>Male</td>\n",
              "      <td>Home and lifestyle</td>\n",
              "      <td>46.33</td>\n",
              "      <td>7</td>\n",
              "      <td>16.2155</td>\n",
              "      <td>340.5255</td>\n",
              "      <td>3/3/2019</td>\n",
              "      <td>13:23</td>\n",
              "      <td>Credit card</td>\n",
              "      <td>324.31</td>\n",
              "      <td>4.761905</td>\n",
              "      <td>16.2155</td>\n",
              "      <td>7.4</td>\n",
              "      <td>South</td>\n",
              "      <td>Alice</td>\n",
              "      <td>2015</td>\n",
              "    </tr>\n",
              "    <tr>\n",
              "      <th>2</th>\n",
              "      <td>123-19-1176</td>\n",
              "      <td>A</td>\n",
              "      <td>Yangon</td>\n",
              "      <td>Member</td>\n",
              "      <td>Male</td>\n",
              "      <td>Health and beauty</td>\n",
              "      <td>58.22</td>\n",
              "      <td>8</td>\n",
              "      <td>23.2880</td>\n",
              "      <td>489.0480</td>\n",
              "      <td>1/27/2019</td>\n",
              "      <td>20:33</td>\n",
              "      <td>Ewallet</td>\n",
              "      <td>465.76</td>\n",
              "      <td>4.761905</td>\n",
              "      <td>23.2880</td>\n",
              "      <td>8.4</td>\n",
              "      <td>South</td>\n",
              "      <td>Alice</td>\n",
              "      <td>2015</td>\n",
              "    </tr>\n",
              "    <tr>\n",
              "      <th>3</th>\n",
              "      <td>373-73-7910</td>\n",
              "      <td>A</td>\n",
              "      <td>Yangon</td>\n",
              "      <td>Normal</td>\n",
              "      <td>Male</td>\n",
              "      <td>Sports and travel</td>\n",
              "      <td>86.31</td>\n",
              "      <td>7</td>\n",
              "      <td>30.2085</td>\n",
              "      <td>634.3785</td>\n",
              "      <td>2/8/2019</td>\n",
              "      <td>10:37</td>\n",
              "      <td>Ewallet</td>\n",
              "      <td>604.17</td>\n",
              "      <td>4.761905</td>\n",
              "      <td>30.2085</td>\n",
              "      <td>5.3</td>\n",
              "      <td>South</td>\n",
              "      <td>Alice</td>\n",
              "      <td>2015</td>\n",
              "    </tr>\n",
              "    <tr>\n",
              "      <th>4</th>\n",
              "      <td>355-53-5943</td>\n",
              "      <td>A</td>\n",
              "      <td>Yangon</td>\n",
              "      <td>Member</td>\n",
              "      <td>Female</td>\n",
              "      <td>Electronic accessories</td>\n",
              "      <td>68.84</td>\n",
              "      <td>6</td>\n",
              "      <td>20.6520</td>\n",
              "      <td>433.6920</td>\n",
              "      <td>2/25/2019</td>\n",
              "      <td>14:36</td>\n",
              "      <td>Ewallet</td>\n",
              "      <td>413.04</td>\n",
              "      <td>4.761905</td>\n",
              "      <td>20.6520</td>\n",
              "      <td>5.8</td>\n",
              "      <td>South</td>\n",
              "      <td>Alice</td>\n",
              "      <td>2015</td>\n",
              "    </tr>\n",
              "  </tbody>\n",
              "</table>\n",
              "</div>"
            ],
            "text/plain": [
              "    Invoice ID Branch    City Customer type  Gender            Product line  \\\n",
              "0  750-67-8428      A  Yangon        Member  Female       Health and beauty   \n",
              "1  631-41-3108      A  Yangon        Normal    Male      Home and lifestyle   \n",
              "2  123-19-1176      A  Yangon        Member    Male       Health and beauty   \n",
              "3  373-73-7910      A  Yangon        Normal    Male       Sports and travel   \n",
              "4  355-53-5943      A  Yangon        Member  Female  Electronic accessories   \n",
              "\n",
              "   Unit price  Quantity   Tax 5%     Total       Date   Time      Payment  \\\n",
              "0       74.69         7  26.1415  548.9715   1/5/2019  13:08      Ewallet   \n",
              "1       46.33         7  16.2155  340.5255   3/3/2019  13:23  Credit card   \n",
              "2       58.22         8  23.2880  489.0480  1/27/2019  20:33      Ewallet   \n",
              "3       86.31         7  30.2085  634.3785   2/8/2019  10:37      Ewallet   \n",
              "4       68.84         6  20.6520  433.6920  2/25/2019  14:36      Ewallet   \n",
              "\n",
              "     cogs  gross margin percentage  gross income  Rating Region Manager  \\\n",
              "0  522.83                 4.761905       26.1415     9.1  South   Alice   \n",
              "1  324.31                 4.761905       16.2155     7.4  South   Alice   \n",
              "2  465.76                 4.761905       23.2880     8.4  South   Alice   \n",
              "3  604.17                 4.761905       30.2085     5.3  South   Alice   \n",
              "4  413.04                 4.761905       20.6520     5.8  South   Alice   \n",
              "\n",
              "   Opened Year  \n",
              "0         2015  \n",
              "1         2015  \n",
              "2         2015  \n",
              "3         2015  \n",
              "4         2015  "
            ]
          },
          "execution_count": 20,
          "metadata": {},
          "output_type": "execute_result"
        }
      ],
      "source": [
        "market_branch = pd.merge(df, df_branch, left_on=\"Branch\", right_on=\"Branch\", how=\"right\")\n",
        "market_branch.head()"
      ]
    },
    {
      "cell_type": "code",
      "execution_count": 21,
      "id": "SXBpJNovboJQ",
      "metadata": {
        "colab": {
          "base_uri": "https://localhost:8080/"
        },
        "id": "SXBpJNovboJQ",
        "outputId": "738bc287-b44b-4a61-8043-4ee169220598"
      },
      "outputs": [
        {
          "name": "stdout",
          "output_type": "stream",
          "text": [
            "<class 'pandas.core.frame.DataFrame'>\n",
            "RangeIndex: 1000 entries, 0 to 999\n",
            "Data columns (total 17 columns):\n",
            " #   Column                   Non-Null Count  Dtype  \n",
            "---  ------                   --------------  -----  \n",
            " 0   Invoice ID               1000 non-null   object \n",
            " 1   Branch                   1000 non-null   object \n",
            " 2   City                     1000 non-null   object \n",
            " 3   Customer type            1000 non-null   object \n",
            " 4   Gender                   1000 non-null   object \n",
            " 5   Product line             1000 non-null   object \n",
            " 6   Unit price               1000 non-null   float64\n",
            " 7   Quantity                 1000 non-null   int64  \n",
            " 8   Tax 5%                   1000 non-null   float64\n",
            " 9   Total                    1000 non-null   float64\n",
            " 10  Date                     1000 non-null   object \n",
            " 11  Time                     1000 non-null   object \n",
            " 12  Payment                  1000 non-null   object \n",
            " 13  cogs                     1000 non-null   float64\n",
            " 14  gross margin percentage  1000 non-null   float64\n",
            " 15  gross income             1000 non-null   float64\n",
            " 16  Rating                   1000 non-null   float64\n",
            "dtypes: float64(7), int64(1), object(9)\n",
            "memory usage: 132.9+ KB\n"
          ]
        }
      ],
      "source": [
        "df.info()"
      ]
    },
    {
      "cell_type": "markdown",
      "id": "JQhbG6qlb3uV",
      "metadata": {
        "id": "JQhbG6qlb3uV"
      },
      "source": [
        "How is the product category revenue in each Region?"
      ]
    },
    {
      "cell_type": "code",
      "execution_count": 22,
      "id": "ESdB135dbo_D",
      "metadata": {
        "colab": {
          "base_uri": "https://localhost:8080/",
          "height": 175
        },
        "id": "ESdB135dbo_D",
        "outputId": "b8a985c5-09ec-41a5-eacd-7b0074411b55"
      },
      "outputs": [
        {
          "data": {
            "text/html": [
              "<div>\n",
              "<style scoped>\n",
              "    .dataframe tbody tr th:only-of-type {\n",
              "        vertical-align: middle;\n",
              "    }\n",
              "\n",
              "    .dataframe tbody tr th {\n",
              "        vertical-align: top;\n",
              "    }\n",
              "\n",
              "    .dataframe thead th {\n",
              "        text-align: right;\n",
              "    }\n",
              "</style>\n",
              "<table border=\"1\" class=\"dataframe\">\n",
              "  <thead>\n",
              "    <tr style=\"text-align: right;\">\n",
              "      <th>Product line</th>\n",
              "      <th>Electronic accessories</th>\n",
              "      <th>Fashion accessories</th>\n",
              "      <th>Food and beverages</th>\n",
              "      <th>Health and beauty</th>\n",
              "      <th>Home and lifestyle</th>\n",
              "      <th>Sports and travel</th>\n",
              "    </tr>\n",
              "    <tr>\n",
              "      <th>Region</th>\n",
              "      <th></th>\n",
              "      <th></th>\n",
              "      <th></th>\n",
              "      <th></th>\n",
              "      <th></th>\n",
              "      <th></th>\n",
              "    </tr>\n",
              "  </thead>\n",
              "  <tbody>\n",
              "    <tr>\n",
              "      <th>Central</th>\n",
              "      <td>17051.4435</td>\n",
              "      <td>16413.3165</td>\n",
              "      <td>15214.8885</td>\n",
              "      <td>19980.660</td>\n",
              "      <td>17549.1645</td>\n",
              "      <td>19988.1990</td>\n",
              "    </tr>\n",
              "    <tr>\n",
              "      <th>North</th>\n",
              "      <td>18968.9745</td>\n",
              "      <td>21560.0700</td>\n",
              "      <td>23766.8550</td>\n",
              "      <td>16615.326</td>\n",
              "      <td>13895.5530</td>\n",
              "      <td>15761.9280</td>\n",
              "    </tr>\n",
              "    <tr>\n",
              "      <th>South</th>\n",
              "      <td>18317.1135</td>\n",
              "      <td>16332.5085</td>\n",
              "      <td>17163.1005</td>\n",
              "      <td>12597.753</td>\n",
              "      <td>22417.1955</td>\n",
              "      <td>19372.6995</td>\n",
              "    </tr>\n",
              "  </tbody>\n",
              "</table>\n",
              "</div>"
            ],
            "text/plain": [
              "Product line  Electronic accessories  Fashion accessories  Food and beverages  \\\n",
              "Region                                                                          \n",
              "Central                   17051.4435           16413.3165          15214.8885   \n",
              "North                     18968.9745           21560.0700          23766.8550   \n",
              "South                     18317.1135           16332.5085          17163.1005   \n",
              "\n",
              "Product line  Health and beauty  Home and lifestyle  Sports and travel  \n",
              "Region                                                                  \n",
              "Central               19980.660          17549.1645         19988.1990  \n",
              "North                 16615.326          13895.5530         15761.9280  \n",
              "South                 12597.753          22417.1955         19372.6995  "
            ]
          },
          "execution_count": 22,
          "metadata": {},
          "output_type": "execute_result"
        }
      ],
      "source": [
        "market_branch.pivot_table(index=\"Region\", columns=\"Product line\", values=\"Total\", aggfunc=\"sum\")"
      ]
    },
    {
      "cell_type": "markdown",
      "id": "9hA79u0xc5dO",
      "metadata": {
        "id": "9hA79u0xc5dO"
      },
      "source": [
        "North excels in Fashion, Food, and Electronic Accessories.\n",
        "\n",
        "Central excels in Health & Beauty and Sports & Travel.\n",
        "\n",
        "South dominates in Home & Lifestyle."
      ]
    },
    {
      "cell_type": "markdown",
      "id": "AQ_olPIeeeeM",
      "metadata": {
        "id": "AQ_olPIeeeeM"
      },
      "source": [
        "How is Male and Female spend their money on?"
      ]
    },
    {
      "cell_type": "code",
      "execution_count": 23,
      "id": "94j_oNTTdeEY",
      "metadata": {
        "colab": {
          "base_uri": "https://localhost:8080/",
          "height": 143
        },
        "id": "94j_oNTTdeEY",
        "outputId": "e95a31fe-9e51-4bcb-8aa4-98785f476529"
      },
      "outputs": [
        {
          "data": {
            "text/html": [
              "<div>\n",
              "<style scoped>\n",
              "    .dataframe tbody tr th:only-of-type {\n",
              "        vertical-align: middle;\n",
              "    }\n",
              "\n",
              "    .dataframe tbody tr th {\n",
              "        vertical-align: top;\n",
              "    }\n",
              "\n",
              "    .dataframe thead th {\n",
              "        text-align: right;\n",
              "    }\n",
              "</style>\n",
              "<table border=\"1\" class=\"dataframe\">\n",
              "  <thead>\n",
              "    <tr style=\"text-align: right;\">\n",
              "      <th>Product line</th>\n",
              "      <th>Electronic accessories</th>\n",
              "      <th>Fashion accessories</th>\n",
              "      <th>Food and beverages</th>\n",
              "      <th>Health and beauty</th>\n",
              "      <th>Home and lifestyle</th>\n",
              "      <th>Sports and travel</th>\n",
              "    </tr>\n",
              "    <tr>\n",
              "      <th>Gender</th>\n",
              "      <th></th>\n",
              "      <th></th>\n",
              "      <th></th>\n",
              "      <th></th>\n",
              "      <th></th>\n",
              "      <th></th>\n",
              "    </tr>\n",
              "  </thead>\n",
              "  <tbody>\n",
              "    <tr>\n",
              "      <th>Female</th>\n",
              "      <td>27102.0225</td>\n",
              "      <td>30437.400</td>\n",
              "      <td>33170.9175</td>\n",
              "      <td>18560.9865</td>\n",
              "      <td>30036.8775</td>\n",
              "      <td>28574.7210</td>\n",
              "    </tr>\n",
              "    <tr>\n",
              "      <th>Male</th>\n",
              "      <td>27235.5090</td>\n",
              "      <td>23868.495</td>\n",
              "      <td>22973.9265</td>\n",
              "      <td>30632.7525</td>\n",
              "      <td>23825.0355</td>\n",
              "      <td>26548.1055</td>\n",
              "    </tr>\n",
              "  </tbody>\n",
              "</table>\n",
              "</div>"
            ],
            "text/plain": [
              "Product line  Electronic accessories  Fashion accessories  Food and beverages  \\\n",
              "Gender                                                                          \n",
              "Female                    27102.0225            30437.400          33170.9175   \n",
              "Male                      27235.5090            23868.495          22973.9265   \n",
              "\n",
              "Product line  Health and beauty  Home and lifestyle  Sports and travel  \n",
              "Gender                                                                  \n",
              "Female               18560.9865          30036.8775         28574.7210  \n",
              "Male                 30632.7525          23825.0355         26548.1055  "
            ]
          },
          "execution_count": 23,
          "metadata": {},
          "output_type": "execute_result"
        }
      ],
      "source": [
        "market_branch.pivot_table(index=\"Gender\", columns=\"Product line\", values=\"Total\", aggfunc=\"sum\")"
      ]
    },
    {
      "cell_type": "markdown",
      "id": "MeqoWTGzetRj",
      "metadata": {
        "id": "MeqoWTGzetRj"
      },
      "source": [
        "Female customers showed the highest spending in the categories \"Food and beverages,\" \"Fashion accessories,\" and \"Home and lifestyle,\" while their spending was lowest in \"Health and beauty.\" Conversely, male customers recorded their significantly highest spending in the \"Health and beauty\" category, while spending on food and beverages was the lowest. The only category where their spending was nearly equal was \"Electronic accessories,\" indicating significantly different shopping priorities between the two genders."
      ]
    },
    {
      "cell_type": "markdown",
      "id": "tCc0BVSyfQEn",
      "metadata": {
        "id": "tCc0BVSyfQEn"
      },
      "source": [
        "### Crosstab"
      ]
    },
    {
      "cell_type": "markdown",
      "id": "A9s6lPuvjho2",
      "metadata": {
        "id": "A9s6lPuvjho2"
      },
      "source": [
        "What is the Average Total Sales based on Branch and Customer Type?"
      ]
    },
    {
      "cell_type": "code",
      "execution_count": 24,
      "id": "CbHngzThhh44",
      "metadata": {
        "colab": {
          "base_uri": "https://localhost:8080/",
          "height": 143
        },
        "id": "CbHngzThhh44",
        "outputId": "1dc1a204-be8f-4069-b066-79a6f26316e0"
      },
      "outputs": [
        {
          "data": {
            "text/html": [
              "<div>\n",
              "<style scoped>\n",
              "    .dataframe tbody tr th:only-of-type {\n",
              "        vertical-align: middle;\n",
              "    }\n",
              "\n",
              "    .dataframe tbody tr th {\n",
              "        vertical-align: top;\n",
              "    }\n",
              "\n",
              "    .dataframe thead th {\n",
              "        text-align: right;\n",
              "    }\n",
              "</style>\n",
              "<table border=\"1\" class=\"dataframe\">\n",
              "  <thead>\n",
              "    <tr style=\"text-align: right;\">\n",
              "      <th>Branch</th>\n",
              "      <th>A</th>\n",
              "      <th>B</th>\n",
              "      <th>C</th>\n",
              "    </tr>\n",
              "    <tr>\n",
              "      <th>Gender</th>\n",
              "      <th></th>\n",
              "      <th></th>\n",
              "      <th></th>\n",
              "    </tr>\n",
              "  </thead>\n",
              "  <tbody>\n",
              "    <tr>\n",
              "      <th>Female</th>\n",
              "      <td>330.864391</td>\n",
              "      <td>326.717870</td>\n",
              "      <td>346.547545</td>\n",
              "    </tr>\n",
              "    <tr>\n",
              "      <th>Male</th>\n",
              "      <td>295.705047</td>\n",
              "      <td>313.349276</td>\n",
              "      <td>325.888290</td>\n",
              "    </tr>\n",
              "  </tbody>\n",
              "</table>\n",
              "</div>"
            ],
            "text/plain": [
              "Branch           A           B           C\n",
              "Gender                                    \n",
              "Female  330.864391  326.717870  346.547545\n",
              "Male    295.705047  313.349276  325.888290"
            ]
          },
          "execution_count": 24,
          "metadata": {},
          "output_type": "execute_result"
        }
      ],
      "source": [
        "pd.crosstab(index=df[\"Gender\"], columns=[df[\"Branch\"]] , values=df[\"Total\"], aggfunc=\"mean\")"
      ]
    },
    {
      "cell_type": "markdown",
      "id": "XC7kccBOkoW7",
      "metadata": {
        "id": "XC7kccBOkoW7"
      },
      "source": [
        "The average total purchase of female customers was higher than that of males across all branches, with the largest difference being at Branch A. Branch C recorded the highest average spend for both genders, indicating potentially greater purchasing power or more effective promotional strategies there."
      ]
    },
    {
      "cell_type": "markdown",
      "id": "Y4PnZNoRk5En",
      "metadata": {
        "id": "Y4PnZNoRk5En"
      },
      "source": [
        "### Appending"
      ]
    },
    {
      "cell_type": "markdown",
      "id": "lEeGsDCKfFAa",
      "metadata": {
        "id": "lEeGsDCKfFAa"
      },
      "source": [
        "since we dont have the same row of dataset, We cant concat dataset with different row on each dataset. for now, let just create a dummy dataset"
      ]
    },
    {
      "cell_type": "markdown",
      "id": "pBl83nwFf7OT",
      "metadata": {
        "id": "pBl83nwFf7OT"
      },
      "source": [
        "for now lets add age column"
      ]
    },
    {
      "cell_type": "code",
      "execution_count": 25,
      "id": "MlQ1XoBQnTPA",
      "metadata": {
        "id": "MlQ1XoBQnTPA"
      },
      "outputs": [],
      "source": [
        "age = pd.DataFrame({\n",
        "    \"Age\": np.random.randint(10, 61, size=1000)  #random\n",
        "})"
      ]
    },
    {
      "cell_type": "code",
      "execution_count": 26,
      "id": "v-n9kETXgd6E",
      "metadata": {
        "colab": {
          "base_uri": "https://localhost:8080/",
          "height": 206
        },
        "id": "v-n9kETXgd6E",
        "outputId": "7b567127-c19c-4b6c-a250-0c29b85dbea7"
      },
      "outputs": [
        {
          "data": {
            "text/html": [
              "<div>\n",
              "<style scoped>\n",
              "    .dataframe tbody tr th:only-of-type {\n",
              "        vertical-align: middle;\n",
              "    }\n",
              "\n",
              "    .dataframe tbody tr th {\n",
              "        vertical-align: top;\n",
              "    }\n",
              "\n",
              "    .dataframe thead th {\n",
              "        text-align: right;\n",
              "    }\n",
              "</style>\n",
              "<table border=\"1\" class=\"dataframe\">\n",
              "  <thead>\n",
              "    <tr style=\"text-align: right;\">\n",
              "      <th></th>\n",
              "      <th>Invoice ID</th>\n",
              "      <th>Branch</th>\n",
              "      <th>City</th>\n",
              "      <th>Customer type</th>\n",
              "      <th>Gender</th>\n",
              "      <th>Product line</th>\n",
              "      <th>Unit price</th>\n",
              "      <th>Quantity</th>\n",
              "      <th>Tax 5%</th>\n",
              "      <th>Total</th>\n",
              "      <th>Date</th>\n",
              "      <th>Time</th>\n",
              "      <th>Payment</th>\n",
              "      <th>cogs</th>\n",
              "      <th>gross margin percentage</th>\n",
              "      <th>gross income</th>\n",
              "      <th>Rating</th>\n",
              "      <th>Age</th>\n",
              "    </tr>\n",
              "  </thead>\n",
              "  <tbody>\n",
              "    <tr>\n",
              "      <th>0</th>\n",
              "      <td>750-67-8428</td>\n",
              "      <td>A</td>\n",
              "      <td>Yangon</td>\n",
              "      <td>Member</td>\n",
              "      <td>Female</td>\n",
              "      <td>Health and beauty</td>\n",
              "      <td>74.69</td>\n",
              "      <td>7</td>\n",
              "      <td>26.1415</td>\n",
              "      <td>548.9715</td>\n",
              "      <td>1/5/2019</td>\n",
              "      <td>13:08</td>\n",
              "      <td>Ewallet</td>\n",
              "      <td>522.83</td>\n",
              "      <td>4.761905</td>\n",
              "      <td>26.1415</td>\n",
              "      <td>9.1</td>\n",
              "      <td>58</td>\n",
              "    </tr>\n",
              "    <tr>\n",
              "      <th>1</th>\n",
              "      <td>226-31-3081</td>\n",
              "      <td>C</td>\n",
              "      <td>Naypyitaw</td>\n",
              "      <td>Normal</td>\n",
              "      <td>Female</td>\n",
              "      <td>Electronic accessories</td>\n",
              "      <td>15.28</td>\n",
              "      <td>5</td>\n",
              "      <td>3.8200</td>\n",
              "      <td>80.2200</td>\n",
              "      <td>3/8/2019</td>\n",
              "      <td>10:29</td>\n",
              "      <td>Cash</td>\n",
              "      <td>76.40</td>\n",
              "      <td>4.761905</td>\n",
              "      <td>3.8200</td>\n",
              "      <td>9.6</td>\n",
              "      <td>32</td>\n",
              "    </tr>\n",
              "    <tr>\n",
              "      <th>2</th>\n",
              "      <td>631-41-3108</td>\n",
              "      <td>A</td>\n",
              "      <td>Yangon</td>\n",
              "      <td>Normal</td>\n",
              "      <td>Male</td>\n",
              "      <td>Home and lifestyle</td>\n",
              "      <td>46.33</td>\n",
              "      <td>7</td>\n",
              "      <td>16.2155</td>\n",
              "      <td>340.5255</td>\n",
              "      <td>3/3/2019</td>\n",
              "      <td>13:23</td>\n",
              "      <td>Credit card</td>\n",
              "      <td>324.31</td>\n",
              "      <td>4.761905</td>\n",
              "      <td>16.2155</td>\n",
              "      <td>7.4</td>\n",
              "      <td>57</td>\n",
              "    </tr>\n",
              "    <tr>\n",
              "      <th>3</th>\n",
              "      <td>123-19-1176</td>\n",
              "      <td>A</td>\n",
              "      <td>Yangon</td>\n",
              "      <td>Member</td>\n",
              "      <td>Male</td>\n",
              "      <td>Health and beauty</td>\n",
              "      <td>58.22</td>\n",
              "      <td>8</td>\n",
              "      <td>23.2880</td>\n",
              "      <td>489.0480</td>\n",
              "      <td>1/27/2019</td>\n",
              "      <td>20:33</td>\n",
              "      <td>Ewallet</td>\n",
              "      <td>465.76</td>\n",
              "      <td>4.761905</td>\n",
              "      <td>23.2880</td>\n",
              "      <td>8.4</td>\n",
              "      <td>15</td>\n",
              "    </tr>\n",
              "    <tr>\n",
              "      <th>4</th>\n",
              "      <td>373-73-7910</td>\n",
              "      <td>A</td>\n",
              "      <td>Yangon</td>\n",
              "      <td>Normal</td>\n",
              "      <td>Male</td>\n",
              "      <td>Sports and travel</td>\n",
              "      <td>86.31</td>\n",
              "      <td>7</td>\n",
              "      <td>30.2085</td>\n",
              "      <td>634.3785</td>\n",
              "      <td>2/8/2019</td>\n",
              "      <td>10:37</td>\n",
              "      <td>Ewallet</td>\n",
              "      <td>604.17</td>\n",
              "      <td>4.761905</td>\n",
              "      <td>30.2085</td>\n",
              "      <td>5.3</td>\n",
              "      <td>24</td>\n",
              "    </tr>\n",
              "  </tbody>\n",
              "</table>\n",
              "</div>"
            ],
            "text/plain": [
              "    Invoice ID Branch       City Customer type  Gender  \\\n",
              "0  750-67-8428      A     Yangon        Member  Female   \n",
              "1  226-31-3081      C  Naypyitaw        Normal  Female   \n",
              "2  631-41-3108      A     Yangon        Normal    Male   \n",
              "3  123-19-1176      A     Yangon        Member    Male   \n",
              "4  373-73-7910      A     Yangon        Normal    Male   \n",
              "\n",
              "             Product line  Unit price  Quantity   Tax 5%     Total       Date  \\\n",
              "0       Health and beauty       74.69         7  26.1415  548.9715   1/5/2019   \n",
              "1  Electronic accessories       15.28         5   3.8200   80.2200   3/8/2019   \n",
              "2      Home and lifestyle       46.33         7  16.2155  340.5255   3/3/2019   \n",
              "3       Health and beauty       58.22         8  23.2880  489.0480  1/27/2019   \n",
              "4       Sports and travel       86.31         7  30.2085  634.3785   2/8/2019   \n",
              "\n",
              "    Time      Payment    cogs  gross margin percentage  gross income  Rating  \\\n",
              "0  13:08      Ewallet  522.83                 4.761905       26.1415     9.1   \n",
              "1  10:29         Cash   76.40                 4.761905        3.8200     9.6   \n",
              "2  13:23  Credit card  324.31                 4.761905       16.2155     7.4   \n",
              "3  20:33      Ewallet  465.76                 4.761905       23.2880     8.4   \n",
              "4  10:37      Ewallet  604.17                 4.761905       30.2085     5.3   \n",
              "\n",
              "   Age  \n",
              "0   58  \n",
              "1   32  \n",
              "2   57  \n",
              "3   15  \n",
              "4   24  "
            ]
          },
          "execution_count": 26,
          "metadata": {},
          "output_type": "execute_result"
        }
      ],
      "source": [
        "df_merge = pd.concat([df, age], axis=1)\n",
        "df_merge.head()"
      ]
    },
    {
      "cell_type": "markdown",
      "id": "0TD_Oyj9gpH8",
      "metadata": {
        "id": "0TD_Oyj9gpH8"
      },
      "source": [
        "what is the mean age of rating >= 7?"
      ]
    },
    {
      "cell_type": "code",
      "execution_count": 27,
      "id": "FVeFxxAmgmDB",
      "metadata": {
        "colab": {
          "base_uri": "https://localhost:8080/"
        },
        "id": "FVeFxxAmgmDB",
        "outputId": "37268587-d188-48f8-e643-644d4b776b10"
      },
      "outputs": [
        {
          "data": {
            "text/plain": [
              "np.float64(33.60678642714571)"
            ]
          },
          "execution_count": 27,
          "metadata": {},
          "output_type": "execute_result"
        }
      ],
      "source": [
        "df_merge[df_merge[\"Rating\"] >= 7]['Age'].mean()"
      ]
    },
    {
      "cell_type": "code",
      "execution_count": 28,
      "id": "6LhV6haPg8zG",
      "metadata": {
        "colab": {
          "base_uri": "https://localhost:8080/"
        },
        "id": "6LhV6haPg8zG",
        "outputId": "b4894ab6-bbfc-4afb-e3fa-9123cba235e1"
      },
      "outputs": [
        {
          "data": {
            "text/plain": [
              "np.float64(35.16432865731463)"
            ]
          },
          "execution_count": 28,
          "metadata": {},
          "output_type": "execute_result"
        }
      ],
      "source": [
        "df_merge[df_merge[\"Rating\"] < 7]['Age'].mean()"
      ]
    },
    {
      "cell_type": "code",
      "execution_count": 29,
      "id": "2u7CsrkdhBrq",
      "metadata": {
        "colab": {
          "base_uri": "https://localhost:8080/"
        },
        "id": "2u7CsrkdhBrq",
        "outputId": "94451554-f07e-4d89-c641-746e3102f6ba"
      },
      "outputs": [
        {
          "data": {
            "text/plain": [
              "np.float64(34.384)"
            ]
          },
          "execution_count": 29,
          "metadata": {},
          "output_type": "execute_result"
        }
      ],
      "source": [
        "df_merge[\"Age\"].mean()"
      ]
    },
    {
      "cell_type": "markdown",
      "id": "ILRiHIR1hLEM",
      "metadata": {
        "id": "ILRiHIR1hLEM"
      },
      "source": [
        "Customers with higher ratings (≥ 7) tend to be slightly younger than those with lower ratings. While the difference is small (~1.3 years), it still suggests that younger customers may be more satisfied with the service or product offered. This could be a reason to re-examine marketing strategies and customer experiences for older age groups."
      ]
    }
  ],
  "metadata": {
    "colab": {
      "collapsed_sections": [
        "hkHqGFpch04o"
      ],
      "provenance": []
    },
    "kernelspec": {
      "display_name": "Python 3",
      "language": "python",
      "name": "python3"
    },
    "language_info": {
      "codemirror_mode": {
        "name": "ipython",
        "version": 3
      },
      "file_extension": ".py",
      "mimetype": "text/x-python",
      "name": "python",
      "nbconvert_exporter": "python",
      "pygments_lexer": "ipython3",
      "version": "3.11.9"
    }
  },
  "nbformat": 4,
  "nbformat_minor": 5
}
